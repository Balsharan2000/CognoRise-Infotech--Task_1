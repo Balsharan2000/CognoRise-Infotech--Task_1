{
  "nbformat": 4,
  "nbformat_minor": 0,
  "metadata": {
    "colab": {
      "provenance": []
    },
    "kernelspec": {
      "name": "python3",
      "display_name": "Python 3"
    },
    "language_info": {
      "name": "python"
    }
  },
  "cells": [
    {
      "cell_type": "code",
      "execution_count": null,
      "metadata": {
        "id": "SvfNfBStfYyv"
      },
      "outputs": [],
      "source": [
        "import pandas as pd\n",
        "import matplotlib.pyplot as plt\n",
        "import seaborn as sns\n"
      ]
    },
    {
      "cell_type": "code",
      "source": [
        "# Load the data\n",
        "file_path1 = '/content/Unemployment in India.csv'  # Update with the correct path to your first file\n",
        "file_path2 = '/content/Unemployment_Rate_upto_11_2020.csv'  # Update with the correct path to your second file\n",
        "unemployment_data1 = pd.read_csv(file_path1)\n",
        "unemployment_data2 = pd.read_csv(file_path2)\n"
      ],
      "metadata": {
        "id": "OQb_z6FzgqBS"
      },
      "execution_count": null,
      "outputs": []
    },
    {
      "cell_type": "code",
      "source": [
        "# Display the first few rows of each dataset\n",
        "print(unemployment_data1.head())\n"
      ],
      "metadata": {
        "id": "OZuaVCfKg5hd",
        "colab": {
          "base_uri": "https://localhost:8080/"
        },
        "outputId": "dcc02816-6acf-4aa3-f4a0-998e7871691a"
      },
      "execution_count": null,
      "outputs": [
        {
          "output_type": "stream",
          "name": "stdout",
          "text": [
            "   Region   Date   Frequency   Estimated Unemployment Rate (%)  \\\n",
            "0     NaN    NaN         NaN                              3.65   \n",
            "1     NaN    NaN         NaN                              3.05   \n",
            "2     NaN    NaN         NaN                              3.75   \n",
            "3     NaN    NaN         NaN                              3.32   \n",
            "4     NaN    NaN         NaN                              5.17   \n",
            "\n",
            "    Estimated Employed   Estimated Labour Participation Rate (%)  Area  \n",
            "0           11999139.0                                     43.24   NaN  \n",
            "1           11755881.0                                     42.05   NaN  \n",
            "2           12086707.0                                     43.50   NaN  \n",
            "3           12285693.0                                     43.97   NaN  \n",
            "4           12256762.0                                     44.68   NaN  \n"
          ]
        }
      ]
    },
    {
      "cell_type": "code",
      "source": [
        "print(unemployment_data2.head())"
      ],
      "metadata": {
        "colab": {
          "base_uri": "https://localhost:8080/"
        },
        "id": "d35ysTzVx-m_",
        "outputId": "8ac81823-933a-4971-9570-4efcf507b4f9"
      },
      "execution_count": null,
      "outputs": [
        {
          "output_type": "stream",
          "name": "stdout",
          "text": [
            "   Region   Date   Frequency   Estimated Unemployment Rate (%)  \\\n",
            "0     NaN    NaN         NaN                              5.48   \n",
            "1     NaN    NaN         NaN                              5.83   \n",
            "2     NaN    NaN         NaN                              5.79   \n",
            "3     NaN    NaN         NaN                             20.51   \n",
            "4     NaN    NaN         NaN                             17.43   \n",
            "\n",
            "    Estimated Employed   Estimated Labour Participation Rate (%)  Region.1  \\\n",
            "0             16635535                                     41.02       NaN   \n",
            "1             16545652                                     40.90       NaN   \n",
            "2             15881197                                     39.18       NaN   \n",
            "3             11336911                                     33.10       NaN   \n",
            "4             12988845                                     36.46       NaN   \n",
            "\n",
            "   longitude  latitude  \n",
            "0    15.9129     79.74  \n",
            "1    15.9129     79.74  \n",
            "2    15.9129     79.74  \n",
            "3    15.9129     79.74  \n",
            "4    15.9129     79.74  \n"
          ]
        }
      ]
    },
    {
      "cell_type": "code",
      "source": [
        "# Generate summary statistics for both datasets\n",
        "print(unemployment_data1.describe())\n"
      ],
      "metadata": {
        "id": "F9ftkQgaQDQQ",
        "colab": {
          "base_uri": "https://localhost:8080/"
        },
        "outputId": "efe8280e-7170-40d7-d556-93e0eb25ea8d"
      },
      "execution_count": null,
      "outputs": [
        {
          "output_type": "stream",
          "name": "stdout",
          "text": [
            "       Region   Date   Frequency   Estimated Unemployment Rate (%)  \\\n",
            "count     0.0    0.0         0.0                        754.000000   \n",
            "mean      NaN    NaN         NaN                         11.787946   \n",
            "std       NaN    NaN         NaN                         10.621164   \n",
            "min       NaN    NaN         NaN                          0.000000   \n",
            "25%       NaN    NaN         NaN                          4.692500   \n",
            "50%       NaN    NaN         NaN                          8.625000   \n",
            "75%       NaN    NaN         NaN                         15.720000   \n",
            "max       NaN    NaN         NaN                         76.740000   \n",
            "\n",
            "        Estimated Employed   Estimated Labour Participation Rate (%)  Area  \n",
            "count         7.540000e+02                                754.000000   0.0  \n",
            "mean          7.204460e+06                                 42.630122   NaN  \n",
            "std           8.012449e+06                                  8.035339   NaN  \n",
            "min           4.942000e+04                                 13.330000   NaN  \n",
            "25%           1.227446e+06                                 38.167500   NaN  \n",
            "50%           4.825595e+06                                 41.255000   NaN  \n",
            "75%           1.116545e+07                                 45.390000   NaN  \n",
            "max           4.577751e+07                                 72.570000   NaN  \n"
          ]
        }
      ]
    },
    {
      "cell_type": "code",
      "source": [
        "print(unemployment_data2.describe())"
      ],
      "metadata": {
        "colab": {
          "base_uri": "https://localhost:8080/"
        },
        "id": "QUtwVI6RyE_-",
        "outputId": "9c00130b-dee4-465d-d877-9b59ac05ae9f"
      },
      "execution_count": null,
      "outputs": [
        {
          "output_type": "stream",
          "name": "stdout",
          "text": [
            "       Region   Date   Frequency   Estimated Unemployment Rate (%)  \\\n",
            "count     0.0    0.0         0.0                        267.000000   \n",
            "mean      NaN    NaN         NaN                         12.236929   \n",
            "std       NaN    NaN         NaN                         10.803283   \n",
            "min       NaN    NaN         NaN                          0.500000   \n",
            "25%       NaN    NaN         NaN                          4.845000   \n",
            "50%       NaN    NaN         NaN                          9.650000   \n",
            "75%       NaN    NaN         NaN                         16.755000   \n",
            "max       NaN    NaN         NaN                         75.850000   \n",
            "\n",
            "        Estimated Employed   Estimated Labour Participation Rate (%)  \\\n",
            "count         2.670000e+02                                267.000000   \n",
            "mean          1.396211e+07                                 41.681573   \n",
            "std           1.336632e+07                                  7.845419   \n",
            "min           1.175420e+05                                 16.770000   \n",
            "25%           2.838930e+06                                 37.265000   \n",
            "50%           9.732417e+06                                 40.390000   \n",
            "75%           2.187869e+07                                 44.055000   \n",
            "max           5.943376e+07                                 69.690000   \n",
            "\n",
            "       Region.1   longitude    latitude  \n",
            "count       0.0  267.000000  267.000000  \n",
            "mean        NaN   22.826048   80.532425  \n",
            "std         NaN    6.270731    5.831738  \n",
            "min         NaN   10.850500   71.192400  \n",
            "25%         NaN   18.112400   76.085600  \n",
            "50%         NaN   23.610200   79.019300  \n",
            "75%         NaN   27.278400   85.279900  \n",
            "max         NaN   33.778200   92.937600  \n"
          ]
        }
      ]
    },
    {
      "cell_type": "code",
      "source": [
        "# Check for missing values in both datasets\n",
        "missing_values1 = unemployment_data1.isnull().sum()\n",
        "missing_values2 = unemployment_data2.isnull().sum()\n",
        "\n",
        "# Display missing values\n",
        "print(missing_values1)\n",
        "print(missing_values2)\n",
        "\n",
        "# Handle missing values (if any)\n",
        "# For example, you can drop rows with missing values or fill them with a specific value\n",
        "data_1 = unemployment_data1.dropna()\n",
        "data_2 = unemployment_data2.dropna()"
      ],
      "metadata": {
        "colab": {
          "base_uri": "https://localhost:8080/"
        },
        "id": "kOL6L4r3yGZ9",
        "outputId": "8c935f0c-b95e-4eba-fc31-74997484ff5e"
      },
      "execution_count": null,
      "outputs": [
        {
          "output_type": "stream",
          "name": "stdout",
          "text": [
            "Region                                      754\n",
            " Date                                       754\n",
            " Frequency                                  754\n",
            " Estimated Unemployment Rate (%)              0\n",
            " Estimated Employed                           0\n",
            " Estimated Labour Participation Rate (%)      0\n",
            "Area                                        754\n",
            "dtype: int64\n",
            "Region                                      267\n",
            " Date                                       267\n",
            " Frequency                                  267\n",
            " Estimated Unemployment Rate (%)              0\n",
            " Estimated Employed                           0\n",
            " Estimated Labour Participation Rate (%)      0\n",
            "Region.1                                    267\n",
            "longitude                                     0\n",
            "latitude                                      0\n",
            "dtype: int64\n"
          ]
        }
      ]
    },
    {
      "cell_type": "code",
      "source": [
        "# Inspect the column names\n",
        "print(data_1.columns)\n",
        "print(data_2.columns)\n"
      ],
      "metadata": {
        "colab": {
          "base_uri": "https://localhost:8080/"
        },
        "id": "CH96q45o2hjQ",
        "outputId": "4fd36f10-865b-4fbb-c269-279f6dbefda3"
      },
      "execution_count": null,
      "outputs": [
        {
          "output_type": "stream",
          "name": "stdout",
          "text": [
            "Index(['Region', ' Date', ' Frequency', ' Estimated Unemployment Rate (%)',\n",
            "       ' Estimated Employed', ' Estimated Labour Participation Rate (%)',\n",
            "       'Area'],\n",
            "      dtype='object')\n",
            "Index(['Region', ' Date', ' Frequency', ' Estimated Unemployment Rate (%)',\n",
            "       ' Estimated Employed', ' Estimated Labour Participation Rate (%)',\n",
            "       'Region.1', 'longitude', 'latitude'],\n",
            "      dtype='object')\n"
          ]
        }
      ]
    },
    {
      "cell_type": "code",
      "source": [
        "# Renaming columns to remove any leading/trailing spaces and standardize names\n",
        "data_1.columns = data_1.columns.str.strip().str.lower().str.replace(' ', '_')\n",
        "data_2.columns = data_2.columns.str.strip().str.lower().str.replace(' ', '_')\n"
      ],
      "metadata": {
        "id": "ZyaJqH932kWV"
      },
      "execution_count": null,
      "outputs": []
    },
    {
      "cell_type": "code",
      "source": [
        "# Convert the 'date' column to datetime format\n",
        "data_1['date'] = pd.to_datetime(data_1['date'])\n",
        "data_2['date'] = pd.to_datetime(data_2['date'])\n"
      ],
      "metadata": {
        "id": "XTXnPVCv2tu6"
      },
      "execution_count": null,
      "outputs": []
    },
    {
      "cell_type": "code",
      "source": [
        "# Now check the first few rows again to ensure the changes took effect\n",
        "print(data_1.head())\n",
        "print(data_2.head())"
      ],
      "metadata": {
        "colab": {
          "base_uri": "https://localhost:8080/"
        },
        "id": "E0CDL5K5yOFJ",
        "outputId": "93511035-2560-4174-b1f9-db5e4d68efc0"
      },
      "execution_count": null,
      "outputs": [
        {
          "output_type": "stream",
          "name": "stdout",
          "text": [
            "Empty DataFrame\n",
            "Columns: [region, date, frequency, estimated_unemployment_rate_(%), estimated_employed, estimated_labour_participation_rate_(%), area]\n",
            "Index: []\n",
            "Empty DataFrame\n",
            "Columns: [region, date, frequency, estimated_unemployment_rate_(%), estimated_employed, estimated_labour_participation_rate_(%), region.1, longitude, latitude]\n",
            "Index: []\n"
          ]
        }
      ]
    },
    {
      "cell_type": "code",
      "source": [
        "print(data_1[data_1['date'].isna()])\n",
        "print(data_2[data_2['date'].isna()])"
      ],
      "metadata": {
        "colab": {
          "base_uri": "https://localhost:8080/"
        },
        "id": "iAHYzhrF43uC",
        "outputId": "6812cad6-e851-4c89-ff99-1016080dc083"
      },
      "execution_count": null,
      "outputs": [
        {
          "output_type": "stream",
          "name": "stdout",
          "text": [
            "Empty DataFrame\n",
            "Columns: [region, date, frequency, estimated_unemployment_rate_(%), estimated_employed, estimated_labour_participation_rate_(%), area]\n",
            "Index: []\n",
            "Empty DataFrame\n",
            "Columns: [region, date, frequency, estimated_unemployment_rate_(%), estimated_employed, estimated_labour_participation_rate_(%), region.1, longitude, latitude]\n",
            "Index: []\n"
          ]
        }
      ]
    },
    {
      "cell_type": "code",
      "source": [
        "# Select relevant columns for correlation analysis, adjusting for case and potential typos\n",
        "numeric_cols = ['estimated_unemployment_rate_(%)', 'estimated_employed', 'estimated_labour_participation_rate_(%)']\n",
        "\n",
        "# Compute the correlation matrix\n",
        "correlation_matrix = data_2[numeric_cols].corr()\n",
        "\n",
        "# Plot the correlation matrix\n",
        "plt.figure(figsize=(10, 8))\n",
        "sns.heatmap(correlation_matrix, annot=True, cmap='coolwarm', linewidths=0.5)\n",
        "plt.title('Correlation Matrix of Unemployment Data')\n",
        "plt.show()"
      ],
      "metadata": {
        "colab": {
          "base_uri": "https://localhost:8080/",
          "height": 1000
        },
        "id": "-SKU7cfU5bxt",
        "outputId": "c7f30cea-d4e5-4c7d-86d9-716de75adec8"
      },
      "execution_count": null,
      "outputs": [
        {
          "output_type": "stream",
          "name": "stderr",
          "text": [
            "/usr/local/lib/python3.10/dist-packages/seaborn/matrix.py:202: RuntimeWarning: All-NaN slice encountered\n",
            "  vmin = np.nanmin(calc_data)\n",
            "/usr/local/lib/python3.10/dist-packages/seaborn/matrix.py:207: RuntimeWarning: All-NaN slice encountered\n",
            "  vmax = np.nanmax(calc_data)\n"
          ]
        },
        {
          "output_type": "display_data",
          "data": {
            "text/plain": [
              "<Figure size 1000x800 with 2 Axes>"
            ],
            "image/png": "[encoded data removed]"
          },
          "metadata": {}
        }
      ]
    }
  ]
}